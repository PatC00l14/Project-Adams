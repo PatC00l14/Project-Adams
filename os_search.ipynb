{
 "cells": [
  {
   "cell_type": "code",
   "execution_count": 34,
   "metadata": {},
   "outputs": [
    {
     "name": "stdout",
     "output_type": "stream",
     "text": [
      "0.0\n",
      "0.0\n",
      "0.0\n",
      "0.0\n",
      "0.0\n",
      "250.0\n",
      "0.0\n",
      "0.0\n",
      "0.0\n",
      "0.0\n",
      "0.0\n",
      "0.0\n",
      "0.0\n",
      "200.0\n",
      "0.0\n",
      "0.0\n",
      "250.0\n",
      "17\n"
     ]
    }
   ],
   "source": [
    "import os \n",
    "from origin_write import MySemiconductor\n",
    "import pandas as pd\n",
    "\n",
    "\n",
    "directory = os.fsencode('C:/Projects/Projects')\n",
    "\n",
    "bfm = 0\n",
    "    \n",
    "for file in os.listdir(directory):\n",
    "    filename = os.fsdecode(file)\n",
    "\n",
    "\n",
    "    #print(f'C:/Projects/Projects/{filename}/Input_data/input_0.csv')\n",
    "\n",
    "\n",
    "    if os.path.exists(f'C:/Projects/Projects/{filename}/Input_data/input_0.csv'):\n",
    "        try:\n",
    "            pandas_dat = pd.read_csv(f'C:/Projects/Projects/{filename}/Input_data/input_0.csv').to_numpy()\n",
    "            device = MySemiconductor(pandas_dat)\n",
    "            print(device.bfm)\n",
    "\n",
    "            bfm +=1\n",
    "        except:\n",
    "            pass\n",
    "        \n",
    "    else:\n",
    "        pass\n",
    "\n",
    "print(bfm)\n",
    "\n"
   ]
  },
  {
   "cell_type": "code",
   "execution_count": null,
   "metadata": {},
   "outputs": [],
   "source": []
  }
 ],
 "metadata": {
  "kernelspec": {
   "display_name": "Python 3",
   "language": "python",
   "name": "python3"
  },
  "language_info": {
   "codemirror_mode": {
    "name": "ipython",
    "version": 3
   },
   "file_extension": ".py",
   "mimetype": "text/x-python",
   "name": "python",
   "nbconvert_exporter": "python",
   "pygments_lexer": "ipython3",
   "version": "3.12.3"
  }
 },
 "nbformat": 4,
 "nbformat_minor": 2
}
